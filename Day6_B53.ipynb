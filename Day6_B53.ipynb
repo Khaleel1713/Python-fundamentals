{
 "cells": [
  {
   "cell_type": "code",
   "execution_count": 1,
   "id": "cec5cdce",
   "metadata": {},
   "outputs": [],
   "source": [
    "students = ['student0','student1','student2','student3','student4','student5']"
   ]
  },
  {
   "cell_type": "code",
   "execution_count": null,
   "id": "c53c7681",
   "metadata": {},
   "outputs": [],
   "source": [
    "# req : i want to welcome students to the college"
   ]
  },
  {
   "cell_type": "code",
   "execution_count": 5,
   "id": "089c5ea5",
   "metadata": {},
   "outputs": [
    {
     "name": "stdout",
     "output_type": "stream",
     "text": [
      "Welcome to the college,['student0', 'student1', 'student2', 'student3', 'student4', 'student5']\n"
     ]
    }
   ],
   "source": [
    "print(f\"Welcome to the college,{students}\")"
   ]
  },
  {
   "cell_type": "code",
   "execution_count": null,
   "id": "a1bd253c",
   "metadata": {},
   "outputs": [],
   "source": [
    "# welcoming student1"
   ]
  },
  {
   "cell_type": "code",
   "execution_count": 8,
   "id": "5bbb5b78",
   "metadata": {},
   "outputs": [
    {
     "name": "stdout",
     "output_type": "stream",
     "text": [
      "Welcome to the college, student1\n"
     ]
    }
   ],
   "source": [
    "print(f\"Welcome to the college, {students[1]}\")"
   ]
  },
  {
   "cell_type": "code",
   "execution_count": 11,
   "id": "3e3454de",
   "metadata": {},
   "outputs": [
    {
     "name": "stdout",
     "output_type": "stream",
     "text": [
      "Welcome to the college, Student1\n"
     ]
    }
   ],
   "source": [
    "print(f\"Welcome to the college, {students[1].title()}\")"
   ]
  },
  {
   "cell_type": "code",
   "execution_count": 14,
   "id": "0eae5eea",
   "metadata": {},
   "outputs": [
    {
     "name": "stdout",
     "output_type": "stream",
     "text": [
      "Welcome to the college, ['student0', 'student2', 'student4']\n"
     ]
    }
   ],
   "source": [
    "print(f\"Welcome to the college, {students[0:5:2]}\")"
   ]
  },
  {
   "cell_type": "code",
   "execution_count": 16,
   "id": "f308fd8f",
   "metadata": {},
   "outputs": [
    {
     "name": "stdout",
     "output_type": "stream",
     "text": [
      "Welcome to the college, ['student1', 'student5']\n"
     ]
    }
   ],
   "source": [
    "print(f\"Welcome to the college, {students[1:6:4]}\")"
   ]
  },
  {
   "cell_type": "code",
   "execution_count": 24,
   "id": "e55cbf48",
   "metadata": {},
   "outputs": [
    {
     "name": "stdout",
     "output_type": "stream",
     "text": [
      "Welcome to the college, ['student1', 'student4']\n"
     ]
    }
   ],
   "source": [
    "print(f'Welcome to the college, {students[1:5:3]}')"
   ]
  },
  {
   "cell_type": "code",
   "execution_count": null,
   "id": "3712526e",
   "metadata": {},
   "outputs": [],
   "source": [
    "# for loop :"
   ]
  },
  {
   "cell_type": "code",
   "execution_count": 32,
   "id": "296ddb83",
   "metadata": {},
   "outputs": [
    {
     "name": "stdout",
     "output_type": "stream",
     "text": [
      "Welcome to the college, student0\n",
      "Welcome to the college, student1\n",
      "Welcome to the college, student2\n",
      "Welcome to the college, student3\n",
      "Welcome to the college, student4\n",
      "Welcome to the college, student5\n"
     ]
    }
   ],
   "source": [
    "for abc in students:\n",
    "    print(f'Welcome to the college, {abc}')"
   ]
  },
  {
   "cell_type": "code",
   "execution_count": 33,
   "id": "67ee04bd",
   "metadata": {},
   "outputs": [
    {
     "name": "stdout",
     "output_type": "stream",
     "text": [
      "Axis bank wishes you happy dushera, student0\n",
      "Axis bank wishes you happy dushera, student1\n",
      "Axis bank wishes you happy dushera, student2\n",
      "Axis bank wishes you happy dushera, student3\n",
      "Axis bank wishes you happy dushera, student4\n",
      "Axis bank wishes you happy dushera, student5\n"
     ]
    }
   ],
   "source": [
    "for a in students:\n",
    "    print(f'Axis bank wishes you happy dushera, {a}')"
   ]
  },
  {
   "cell_type": "code",
   "execution_count": null,
   "id": "a7284002",
   "metadata": {},
   "outputs": [],
   "source": [
    "# indentatiion in for loop is mandatory"
   ]
  },
  {
   "cell_type": "code",
   "execution_count": null,
   "id": "f9ffe1f9",
   "metadata": {},
   "outputs": [],
   "source": [
    "#enhancement in code"
   ]
  },
  {
   "cell_type": "code",
   "execution_count": 34,
   "id": "4822df3e",
   "metadata": {},
   "outputs": [
    {
     "name": "stdout",
     "output_type": "stream",
     "text": [
      "Hope you're doing good, student0\n",
      "Kindly do the given task, student0\n",
      "Hope you're doing good, student1\n",
      "Kindly do the given task, student1\n",
      "Hope you're doing good, student2\n",
      "Kindly do the given task, student2\n",
      "Hope you're doing good, student3\n",
      "Kindly do the given task, student3\n",
      "Hope you're doing good, student4\n",
      "Kindly do the given task, student4\n",
      "Hope you're doing good, student5\n",
      "Kindly do the given task, student5\n"
     ]
    }
   ],
   "source": [
    "for x in students:\n",
    "    print(f\"Hope you're doing good, {x}\")\n",
    "    print(f\"Kindly do the given task, {x}\")"
   ]
  },
  {
   "cell_type": "code",
   "execution_count": 36,
   "id": "0ed7bae4",
   "metadata": {},
   "outputs": [
    {
     "name": "stdout",
     "output_type": "stream",
     "text": [
      "Hope you're doing good, student0\n",
      "Kindly do the given task, student0\n",
      "\n",
      "Hope you're doing good, student1\n",
      "Kindly do the given task, student1\n",
      "\n",
      "Hope you're doing good, student2\n",
      "Kindly do the given task, student2\n",
      "\n",
      "Hope you're doing good, student3\n",
      "Kindly do the given task, student3\n",
      "\n",
      "Hope you're doing good, student4\n",
      "Kindly do the given task, student4\n",
      "\n",
      "Hope you're doing good, student5\n",
      "Kindly do the given task, student5\n",
      "\n"
     ]
    }
   ],
   "source": [
    "for x in students:\n",
    "    print(f\"Hope you're doing good, {x}\")\n",
    "    print(f\"Kindly do the given task, {x}\\n\")"
   ]
  },
  {
   "cell_type": "code",
   "execution_count": 41,
   "id": "78d8a292",
   "metadata": {},
   "outputs": [
    {
     "name": "stdout",
     "output_type": "stream",
     "text": [
      "Hope you're doing good, Student0\t\n",
      "Kindly do the given task, student0\t\n",
      "\n",
      "Hope you're doing good, Student1\t\n",
      "Kindly do the given task, student1\t\n",
      "\n",
      "Hope you're doing good, Student2\t\n",
      "Kindly do the given task, student2\t\n",
      "\n",
      "Hope you're doing good, Student3\t\n",
      "Kindly do the given task, student3\t\n",
      "\n",
      "Hope you're doing good, Student4\t\n",
      "Kindly do the given task, student4\t\n",
      "\n",
      "Hope you're doing good, Student5\t\n",
      "Kindly do the given task, student5\t\n",
      "\n"
     ]
    }
   ],
   "source": [
    "for x in students:\n",
    "    print(f\"Hope you're doing good, {x.title()}\\t\")\n",
    "    print(f\"Kindly do the given task, {x}\\t\\n\")"
   ]
  },
  {
   "cell_type": "code",
   "execution_count": 44,
   "id": "597e4719",
   "metadata": {},
   "outputs": [
    {
     "name": "stdout",
     "output_type": "stream",
     "text": [
      "Hope you're doing good, Student0\n",
      "Kindly do the given task, Student0\n",
      "\n",
      "Hope you're doing good, Student1\n",
      "Kindly do the given task, Student1\n",
      "\n",
      "Hope you're doing good, Student2\n",
      "Kindly do the given task, Student2\n",
      "\n",
      "Hope you're doing good, Student3\n",
      "Kindly do the given task, Student3\n",
      "\n",
      "Hope you're doing good, Student4\n",
      "Kindly do the given task, Student4\n",
      "\n",
      "Hope you're doing good, Student5\n",
      "Kindly do the given task, Student5\n",
      "\n"
     ]
    }
   ],
   "source": [
    "for x in students:\n",
    "    print(f\"Hope you're doing good, {x.title()}\")\n",
    "    print(f\"Kindly do the given task, {x.title()}\\n\")"
   ]
  },
  {
   "cell_type": "code",
   "execution_count": 46,
   "id": "69ad20ee",
   "metadata": {},
   "outputs": [
    {
     "name": "stdout",
     "output_type": "stream",
     "text": [
      "Hope you're doing good, Student0\n",
      "Kindly do the given task, Student0\n",
      "\n",
      "Thank you for cooperating, take care\n",
      "Hope you're doing good, Student1\n",
      "Kindly do the given task, Student1\n",
      "\n",
      "Thank you for cooperating, take care\n",
      "Hope you're doing good, Student2\n",
      "Kindly do the given task, Student2\n",
      "\n",
      "Thank you for cooperating, take care\n",
      "Hope you're doing good, Student3\n",
      "Kindly do the given task, Student3\n",
      "\n",
      "Thank you for cooperating, take care\n",
      "Hope you're doing good, Student4\n",
      "Kindly do the given task, Student4\n",
      "\n",
      "Thank you for cooperating, take care\n",
      "Hope you're doing good, Student5\n",
      "Kindly do the given task, Student5\n",
      "\n",
      "Thank you for cooperating, take care\n"
     ]
    }
   ],
   "source": [
    "for x in students:\n",
    "    print(f\"Hope you're doing good, {x.title()}\")\n",
    "    print(f\"Kindly do the given task, {x.title()}\\n\")\n",
    "    \n",
    "    print('Thank you for cooperating, take care')"
   ]
  },
  {
   "cell_type": "code",
   "execution_count": 48,
   "id": "9a343591",
   "metadata": {},
   "outputs": [
    {
     "name": "stdout",
     "output_type": "stream",
     "text": [
      "Hope you're doing good, Student0\n",
      "Kindly do the given task, Student0\n",
      "\n",
      "Hope you're doing good, Student1\n",
      "Kindly do the given task, Student1\n",
      "\n",
      "Hope you're doing good, Student2\n",
      "Kindly do the given task, Student2\n",
      "\n",
      "Hope you're doing good, Student3\n",
      "Kindly do the given task, Student3\n",
      "\n",
      "Hope you're doing good, Student4\n",
      "Kindly do the given task, Student4\n",
      "\n",
      "Hope you're doing good, Student5\n",
      "Kindly do the given task, Student5\n",
      "\n",
      "Take care\n"
     ]
    }
   ],
   "source": [
    "for x in students:\n",
    "    print(f\"Hope you're doing good, {x.title()}\")\n",
    "    print(f\"Kindly do the given task, {x.title()}\\n\")\n",
    "    \n",
    "print(\"Take care\")"
   ]
  },
  {
   "cell_type": "code",
   "execution_count": null,
   "id": "e95d4437",
   "metadata": {},
   "outputs": [],
   "source": [
    "# in line 46 i considered indentation, so the consideration gave me different output as compared to line 48"
   ]
  },
  {
   "cell_type": "code",
   "execution_count": null,
   "id": "9e4ae3dd",
   "metadata": {},
   "outputs": [],
   "source": []
  },
  {
   "cell_type": "code",
   "execution_count": null,
   "id": "c7d5c63a",
   "metadata": {},
   "outputs": [],
   "source": []
  }
 ],
 "metadata": {
  "kernelspec": {
   "display_name": "Python 3",
   "language": "python",
   "name": "python3"
  },
  "language_info": {
   "codemirror_mode": {
    "name": "ipython",
    "version": 3
   },
   "file_extension": ".py",
   "mimetype": "text/x-python",
   "name": "python",
   "nbconvert_exporter": "python",
   "pygments_lexer": "ipython3",
   "version": "3.8.8"
  }
 },
 "nbformat": 4,
 "nbformat_minor": 5
}
