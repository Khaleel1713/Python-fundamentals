{
 "cells": [
  {
   "cell_type": "code",
   "execution_count": 1,
   "id": "73e9868e",
   "metadata": {},
   "outputs": [],
   "source": [
    "country = ['india','germany','russia','norway','canada']"
   ]
  },
  {
   "cell_type": "code",
   "execution_count": 2,
   "id": "6bc0c450",
   "metadata": {},
   "outputs": [
    {
     "name": "stdout",
     "output_type": "stream",
     "text": [
      "['india', 'germany', 'russia', 'norway', 'canada']\n"
     ]
    }
   ],
   "source": [
    "print(country)"
   ]
  },
  {
   "cell_type": "code",
   "execution_count": null,
   "id": "7cb969d9",
   "metadata": {},
   "outputs": [],
   "source": [
    "#req : to sort list temporarily or permanent"
   ]
  },
  {
   "cell_type": "code",
   "execution_count": 4,
   "id": "a171d62c",
   "metadata": {},
   "outputs": [
    {
     "name": "stdout",
     "output_type": "stream",
     "text": [
      "['canada', 'germany', 'india', 'norway', 'russia']\n"
     ]
    }
   ],
   "source": [
    "print(sorted(country))"
   ]
  },
  {
   "cell_type": "code",
   "execution_count": 5,
   "id": "81ac9858",
   "metadata": {},
   "outputs": [
    {
     "name": "stdout",
     "output_type": "stream",
     "text": [
      "['india', 'germany', 'russia', 'norway', 'canada']\n"
     ]
    }
   ],
   "source": [
    "print(country)"
   ]
  },
  {
   "cell_type": "code",
   "execution_count": null,
   "id": "bb51c4ae",
   "metadata": {},
   "outputs": [],
   "source": [
    "#req : to permanenet sort"
   ]
  },
  {
   "cell_type": "code",
   "execution_count": 10,
   "id": "bfc55432",
   "metadata": {},
   "outputs": [],
   "source": [
    "country.sort()"
   ]
  },
  {
   "cell_type": "code",
   "execution_count": 11,
   "id": "f30923bb",
   "metadata": {},
   "outputs": [
    {
     "name": "stdout",
     "output_type": "stream",
     "text": [
      "['canada', 'germany', 'india', 'norway', 'russia']\n"
     ]
    }
   ],
   "source": [
    "print(country)"
   ]
  },
  {
   "cell_type": "code",
   "execution_count": null,
   "id": "389a37f7",
   "metadata": {},
   "outputs": [],
   "source": [
    "# req : to print in reverse order"
   ]
  },
  {
   "cell_type": "code",
   "execution_count": 12,
   "id": "ab7692dc",
   "metadata": {},
   "outputs": [],
   "source": [
    "country.reverse()"
   ]
  },
  {
   "cell_type": "code",
   "execution_count": 13,
   "id": "3756da40",
   "metadata": {},
   "outputs": [
    {
     "name": "stdout",
     "output_type": "stream",
     "text": [
      "['russia', 'norway', 'india', 'germany', 'canada']\n"
     ]
    }
   ],
   "source": [
    "print(country)"
   ]
  },
  {
   "cell_type": "code",
   "execution_count": null,
   "id": "604a64c1",
   "metadata": {},
   "outputs": [],
   "source": [
    "# req : to print number of elements"
   ]
  },
  {
   "cell_type": "code",
   "execution_count": 14,
   "id": "c36d150c",
   "metadata": {},
   "outputs": [
    {
     "data": {
      "text/plain": [
       "5"
      ]
     },
     "execution_count": 14,
     "metadata": {},
     "output_type": "execute_result"
    }
   ],
   "source": [
    "len(country)"
   ]
  },
  {
   "cell_type": "code",
   "execution_count": null,
   "id": "42951bc8",
   "metadata": {},
   "outputs": [],
   "source": [
    "Introduction to slicing :"
   ]
  },
  {
   "cell_type": "code",
   "execution_count": 15,
   "id": "00fbec78",
   "metadata": {},
   "outputs": [],
   "source": [
    "students = ['student0','student1','student2','student3','student4','student5']"
   ]
  },
  {
   "cell_type": "code",
   "execution_count": 17,
   "id": "b55fb807",
   "metadata": {},
   "outputs": [
    {
     "name": "stdout",
     "output_type": "stream",
     "text": [
      "['student0']\n"
     ]
    }
   ],
   "source": [
    "print(students[0:1])"
   ]
  },
  {
   "cell_type": "code",
   "execution_count": 18,
   "id": "5604c0be",
   "metadata": {},
   "outputs": [
    {
     "name": "stdout",
     "output_type": "stream",
     "text": [
      "['student0', 'student1']\n"
     ]
    }
   ],
   "source": [
    "print(students[0:2])"
   ]
  },
  {
   "cell_type": "code",
   "execution_count": null,
   "id": "0664c2bd",
   "metadata": {},
   "outputs": [],
   "source": [
    "#req : to slice only student3"
   ]
  },
  {
   "cell_type": "code",
   "execution_count": 23,
   "id": "76575ff3",
   "metadata": {},
   "outputs": [
    {
     "name": "stdout",
     "output_type": "stream",
     "text": [
      "['student3']\n"
     ]
    }
   ],
   "source": [
    "print(students[3:4])"
   ]
  },
  {
   "cell_type": "code",
   "execution_count": 24,
   "id": "a45ebdc1",
   "metadata": {},
   "outputs": [
    {
     "name": "stdout",
     "output_type": "stream",
     "text": [
      "['student0', 'student1', 'student2', 'student3']\n"
     ]
    }
   ],
   "source": [
    "print(students[0:4])"
   ]
  },
  {
   "cell_type": "code",
   "execution_count": 25,
   "id": "c5416ff0",
   "metadata": {},
   "outputs": [
    {
     "name": "stdout",
     "output_type": "stream",
     "text": [
      "['student0', 'student2', 'student4']\n"
     ]
    }
   ],
   "source": [
    "print(students[0:6:2])"
   ]
  },
  {
   "cell_type": "code",
   "execution_count": 26,
   "id": "5ee894f7",
   "metadata": {},
   "outputs": [
    {
     "name": "stdout",
     "output_type": "stream",
     "text": [
      "['student0', 'student2']\n"
     ]
    }
   ],
   "source": [
    "print(students[0:4:2])"
   ]
  },
  {
   "cell_type": "code",
   "execution_count": 27,
   "id": "f9b92ca2",
   "metadata": {},
   "outputs": [
    {
     "name": "stdout",
     "output_type": "stream",
     "text": [
      "['student0', 'student2', 'student4']\n"
     ]
    }
   ],
   "source": [
    "print(students[0:5:2])"
   ]
  },
  {
   "cell_type": "code",
   "execution_count": 28,
   "id": "06219adb",
   "metadata": {},
   "outputs": [
    {
     "name": "stdout",
     "output_type": "stream",
     "text": [
      "['student0', 'student3']\n"
     ]
    }
   ],
   "source": [
    "print(students[0:6:3])"
   ]
  },
  {
   "cell_type": "code",
   "execution_count": 30,
   "id": "9e8910c3",
   "metadata": {},
   "outputs": [
    {
     "name": "stdout",
     "output_type": "stream",
     "text": [
      "['student0']\n"
     ]
    }
   ],
   "source": [
    "print(students[0:3:3])"
   ]
  },
  {
   "cell_type": "code",
   "execution_count": 32,
   "id": "9535c88f",
   "metadata": {},
   "outputs": [
    {
     "name": "stdout",
     "output_type": "stream",
     "text": [
      "['student1', 'student4']\n"
     ]
    }
   ],
   "source": [
    "print(students[1:5:3])"
   ]
  },
  {
   "cell_type": "code",
   "execution_count": 33,
   "id": "37d9f717",
   "metadata": {},
   "outputs": [
    {
     "name": "stdout",
     "output_type": "stream",
     "text": [
      "['student2', 'student5']\n"
     ]
    }
   ],
   "source": [
    "print(students[2:6:3])"
   ]
  },
  {
   "cell_type": "code",
   "execution_count": null,
   "id": "f467d918",
   "metadata": {},
   "outputs": [],
   "source": []
  }
 ],
 "metadata": {
  "kernelspec": {
   "display_name": "Python 3",
   "language": "python",
   "name": "python3"
  },
  "language_info": {
   "codemirror_mode": {
    "name": "ipython",
    "version": 3
   },
   "file_extension": ".py",
   "mimetype": "text/x-python",
   "name": "python",
   "nbconvert_exporter": "python",
   "pygments_lexer": "ipython3",
   "version": "3.8.8"
  }
 },
 "nbformat": 4,
 "nbformat_minor": 5
}
