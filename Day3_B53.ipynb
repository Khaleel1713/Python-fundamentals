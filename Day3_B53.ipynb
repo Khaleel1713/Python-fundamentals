{
 "cells": [
  {
   "cell_type": "code",
   "execution_count": null,
   "id": "4003dec2",
   "metadata": {},
   "outputs": [],
   "source": [
    "Introduction to f strings :\n",
    "    (f\"custom words {placeholder-1}{placeholder-2}...{placeholder-n}\")"
   ]
  },
  {
   "cell_type": "code",
   "execution_count": 1,
   "id": "80a43e51",
   "metadata": {},
   "outputs": [],
   "source": [
    "first_name = 'syed abdul'"
   ]
  },
  {
   "cell_type": "code",
   "execution_count": 2,
   "id": "b9bd792b",
   "metadata": {},
   "outputs": [],
   "source": [
    "last_name ='khaleel'"
   ]
  },
  {
   "cell_type": "code",
   "execution_count": 3,
   "id": "e29b24e4",
   "metadata": {},
   "outputs": [],
   "source": [
    "fullname=(f'{first_name}{last_name}')"
   ]
  },
  {
   "cell_type": "code",
   "execution_count": 4,
   "id": "1ed61cd5",
   "metadata": {},
   "outputs": [
    {
     "name": "stdout",
     "output_type": "stream",
     "text": [
      "syed abdulkhaleel\n"
     ]
    }
   ],
   "source": [
    "print(fullname)"
   ]
  },
  {
   "cell_type": "code",
   "execution_count": 5,
   "id": "3d3b05e1",
   "metadata": {},
   "outputs": [],
   "source": [
    "fullname = (f'{first_name} {last_name}')"
   ]
  },
  {
   "cell_type": "code",
   "execution_count": 6,
   "id": "931fff1a",
   "metadata": {},
   "outputs": [
    {
     "name": "stdout",
     "output_type": "stream",
     "text": [
      "syed abdul khaleel\n"
     ]
    }
   ],
   "source": [
    "print(fullname)"
   ]
  },
  {
   "cell_type": "code",
   "execution_count": 7,
   "id": "30f09d9e",
   "metadata": {},
   "outputs": [
    {
     "name": "stdout",
     "output_type": "stream",
     "text": [
      "Hello, syed abdul khaleel\n"
     ]
    }
   ],
   "source": [
    "print(f'Hello, {fullname}')"
   ]
  },
  {
   "cell_type": "code",
   "execution_count": 8,
   "id": "1f08d95c",
   "metadata": {},
   "outputs": [
    {
     "name": "stdout",
     "output_type": "stream",
     "text": [
      "Hello, Syed Abdul Khaleel\n"
     ]
    }
   ],
   "source": [
    "print(f'Hello, {fullname.title()}')"
   ]
  },
  {
   "cell_type": "code",
   "execution_count": null,
   "id": "cd55385b",
   "metadata": {},
   "outputs": [],
   "source": [
    "Adding whitespaces to strings :"
   ]
  },
  {
   "cell_type": "code",
   "execution_count": 9,
   "id": "f55b9106",
   "metadata": {},
   "outputs": [
    {
     "name": "stdout",
     "output_type": "stream",
     "text": [
      "first_name,last_name\n"
     ]
    }
   ],
   "source": [
    "print('first_name,last_name')"
   ]
  },
  {
   "cell_type": "code",
   "execution_count": 10,
   "id": "bcb58703",
   "metadata": {},
   "outputs": [
    {
     "name": "stdout",
     "output_type": "stream",
     "text": [
      "syed abdul khaleel\n"
     ]
    }
   ],
   "source": [
    "print(first_name,last_name)"
   ]
  },
  {
   "cell_type": "code",
   "execution_count": 11,
   "id": "5b655491",
   "metadata": {},
   "outputs": [
    {
     "name": "stdout",
     "output_type": "stream",
     "text": [
      "pythoncc++djangomysqlcssorange\n"
     ]
    }
   ],
   "source": [
    "print('pythoncc++djangomysqlcssorange')"
   ]
  },
  {
   "cell_type": "code",
   "execution_count": 12,
   "id": "84cd3f01",
   "metadata": {},
   "outputs": [
    {
     "name": "stdout",
     "output_type": "stream",
     "text": [
      "favourite language:\n",
      "python\n",
      "c\n",
      "c++\n",
      "django\n",
      "mysql\n",
      "css\n",
      "orange\n"
     ]
    }
   ],
   "source": [
    "print('favourite language:\\npython\\nc\\nc++\\ndjango\\nmysql\\ncss\\norange')"
   ]
  },
  {
   "cell_type": "code",
   "execution_count": 15,
   "id": "a5125e70",
   "metadata": {},
   "outputs": [],
   "source": [
    "favourite_language = \"pythoncc++djangomysqlcssorange\""
   ]
  },
  {
   "cell_type": "code",
   "execution_count": 16,
   "id": "08741844",
   "metadata": {},
   "outputs": [
    {
     "ename": "SyntaxError",
     "evalue": "unexpected character after line continuation character (<ipython-input-16-df25e3894de3>, line 1)",
     "output_type": "error",
     "traceback": [
      "\u001b[1;36m  File \u001b[1;32m\"<ipython-input-16-df25e3894de3>\"\u001b[1;36m, line \u001b[1;32m1\u001b[0m\n\u001b[1;33m    print(favourite_language\\n)\u001b[0m\n\u001b[1;37m                               ^\u001b[0m\n\u001b[1;31mSyntaxError\u001b[0m\u001b[1;31m:\u001b[0m unexpected character after line continuation character\n"
     ]
    }
   ],
   "source": [
    "print(favourite_language\\n)"
   ]
  },
  {
   "cell_type": "code",
   "execution_count": 18,
   "id": "306313d5",
   "metadata": {},
   "outputs": [
    {
     "name": "stdout",
     "output_type": "stream",
     "text": [
      "pythoncc++djangomysqlcssorange\n"
     ]
    }
   ],
   "source": [
    "print(favourite_language)"
   ]
  },
  {
   "cell_type": "code",
   "execution_count": 19,
   "id": "84b11a1d",
   "metadata": {},
   "outputs": [
    {
     "name": "stdout",
     "output_type": "stream",
     "text": [
      "favourite language:\n",
      "\tpython\n",
      "\tc\n",
      "\tc++\n",
      "\tdjango\n",
      "\tmysql\n",
      "\tcss\n",
      "\torange\n"
     ]
    }
   ],
   "source": [
    "print('favourite language:\\n\\tpython\\n\\tc\\n\\tc++\\n\\tdjango\\n\\tmysql\\n\\tcss\\n\\torange')"
   ]
  },
  {
   "cell_type": "code",
   "execution_count": 22,
   "id": "00d133b3",
   "metadata": {},
   "outputs": [
    {
     "name": "stdout",
     "output_type": "stream",
     "text": [
      "Favourite Language:\n",
      "\tPython\n",
      "\tC\n",
      "\tC++\n",
      "\tDjango\n",
      "\tMysql\n",
      "\tCss\n",
      "\tOrange\n"
     ]
    }
   ],
   "source": [
    "print('favourite language:\\n\\tpython\\n\\tc\\n\\tc++\\n\\tdjango\\n\\tmysql\\n\\tcss\\n\\torange'.title())"
   ]
  },
  {
   "cell_type": "code",
   "execution_count": null,
   "id": "c6186464",
   "metadata": {},
   "outputs": [],
   "source": [
    "Removing whitespaces from the strings :"
   ]
  },
  {
   "cell_type": "code",
   "execution_count": 23,
   "id": "b213a430",
   "metadata": {},
   "outputs": [],
   "source": [
    "name = \" liu\""
   ]
  },
  {
   "cell_type": "code",
   "execution_count": 24,
   "id": "285d198c",
   "metadata": {},
   "outputs": [
    {
     "name": "stdout",
     "output_type": "stream",
     "text": [
      " liu\n"
     ]
    }
   ],
   "source": [
    "print(name)"
   ]
  },
  {
   "cell_type": "code",
   "execution_count": 25,
   "id": "d0c56bd6",
   "metadata": {},
   "outputs": [
    {
     "data": {
      "text/plain": [
       "'liu'"
      ]
     },
     "execution_count": 25,
     "metadata": {},
     "output_type": "execute_result"
    }
   ],
   "source": [
    "name.lstrip()"
   ]
  },
  {
   "cell_type": "code",
   "execution_count": 26,
   "id": "b46e98a0",
   "metadata": {},
   "outputs": [
    {
     "data": {
      "text/plain": [
       "' Liu'"
      ]
     },
     "execution_count": 26,
     "metadata": {},
     "output_type": "execute_result"
    }
   ],
   "source": [
    "name.title()"
   ]
  },
  {
   "cell_type": "code",
   "execution_count": 27,
   "id": "090f0d82",
   "metadata": {},
   "outputs": [
    {
     "name": "stdout",
     "output_type": "stream",
     "text": [
      "Liu\n"
     ]
    }
   ],
   "source": [
    "print(name.lstrip().title())"
   ]
  },
  {
   "cell_type": "code",
   "execution_count": 31,
   "id": "1dc4b55a",
   "metadata": {},
   "outputs": [],
   "source": [
    "name2='anonymous      '"
   ]
  },
  {
   "cell_type": "code",
   "execution_count": 32,
   "id": "bce19abc",
   "metadata": {},
   "outputs": [
    {
     "name": "stdout",
     "output_type": "stream",
     "text": [
      "anonymous      \n"
     ]
    }
   ],
   "source": [
    "print(name2)"
   ]
  },
  {
   "cell_type": "code",
   "execution_count": 33,
   "id": "9084ca01",
   "metadata": {},
   "outputs": [
    {
     "name": "stdout",
     "output_type": "stream",
     "text": [
      "anonymous\n"
     ]
    }
   ],
   "source": [
    "print(name2.rstrip())"
   ]
  },
  {
   "cell_type": "code",
   "execution_count": 38,
   "id": "53d2222e",
   "metadata": {},
   "outputs": [],
   "source": [
    "whatsmyname='      heisenberg      '"
   ]
  },
  {
   "cell_type": "code",
   "execution_count": 39,
   "id": "efc3d9c5",
   "metadata": {},
   "outputs": [
    {
     "name": "stdout",
     "output_type": "stream",
     "text": [
      "      heisenberg      \n"
     ]
    }
   ],
   "source": [
    "print(whatsmyname)"
   ]
  },
  {
   "cell_type": "code",
   "execution_count": 40,
   "id": "4ea11f96",
   "metadata": {},
   "outputs": [
    {
     "name": "stdout",
     "output_type": "stream",
     "text": [
      "Heisenberg\n"
     ]
    }
   ],
   "source": [
    "print(whatsmyname.strip().title())"
   ]
  },
  {
   "cell_type": "code",
   "execution_count": null,
   "id": "1f11415d",
   "metadata": {},
   "outputs": [],
   "source": []
  }
 ],
 "metadata": {
  "kernelspec": {
   "display_name": "Python 3",
   "language": "python",
   "name": "python3"
  },
  "language_info": {
   "codemirror_mode": {
    "name": "ipython",
    "version": 3
   },
   "file_extension": ".py",
   "mimetype": "text/x-python",
   "name": "python",
   "nbconvert_exporter": "python",
   "pygments_lexer": "ipython3",
   "version": "3.8.8"
  }
 },
 "nbformat": 4,
 "nbformat_minor": 5
}
