{
 "cells": [
  {
   "cell_type": "code",
   "execution_count": 1,
   "id": "14850804",
   "metadata": {},
   "outputs": [],
   "source": [
    "animals = ['cat','dog','lion','tiger','cheetah']"
   ]
  },
  {
   "cell_type": "code",
   "execution_count": 2,
   "id": "dc97bd09",
   "metadata": {},
   "outputs": [
    {
     "name": "stdout",
     "output_type": "stream",
     "text": [
      "['cat', 'dog', 'lion', 'tiger', 'cheetah']\n"
     ]
    }
   ],
   "source": [
    "print(animals)"
   ]
  },
  {
   "cell_type": "code",
   "execution_count": 3,
   "id": "48a292e3",
   "metadata": {},
   "outputs": [
    {
     "data": {
      "text/plain": [
       "list"
      ]
     },
     "execution_count": 3,
     "metadata": {},
     "output_type": "execute_result"
    }
   ],
   "source": [
    "type(animals)"
   ]
  },
  {
   "cell_type": "code",
   "execution_count": null,
   "id": "6cf7054f",
   "metadata": {},
   "outputs": [],
   "source": [
    "Introduction to indexing :"
   ]
  },
  {
   "cell_type": "code",
   "execution_count": 4,
   "id": "4adb6c03",
   "metadata": {},
   "outputs": [
    {
     "name": "stdout",
     "output_type": "stream",
     "text": [
      "cat\n"
     ]
    }
   ],
   "source": [
    "print(animals[0])"
   ]
  },
  {
   "cell_type": "code",
   "execution_count": null,
   "id": "f1a00382",
   "metadata": {},
   "outputs": [],
   "source": [
    "# acessing cheetah in output"
   ]
  },
  {
   "cell_type": "code",
   "execution_count": 5,
   "id": "677a8aac",
   "metadata": {},
   "outputs": [
    {
     "name": "stdout",
     "output_type": "stream",
     "text": [
      "cheetah\n"
     ]
    }
   ],
   "source": [
    "print(animals[4])"
   ]
  },
  {
   "cell_type": "code",
   "execution_count": null,
   "id": "cc20c024",
   "metadata": {},
   "outputs": [],
   "source": [
    "#req to add an element in animals list"
   ]
  },
  {
   "cell_type": "code",
   "execution_count": 6,
   "id": "df5a17d1",
   "metadata": {},
   "outputs": [],
   "source": [
    "animals.append(\"leopard\")"
   ]
  },
  {
   "cell_type": "code",
   "execution_count": 7,
   "id": "1daead54",
   "metadata": {},
   "outputs": [
    {
     "name": "stdout",
     "output_type": "stream",
     "text": [
      "['cat', 'dog', 'lion', 'tiger', 'cheetah', 'leopard']\n"
     ]
    }
   ],
   "source": [
    "print(animals)"
   ]
  },
  {
   "cell_type": "code",
   "execution_count": 11,
   "id": "dd11a267",
   "metadata": {},
   "outputs": [],
   "source": [
    "animals.append('panther')"
   ]
  },
  {
   "cell_type": "code",
   "execution_count": 12,
   "id": "891eb55b",
   "metadata": {},
   "outputs": [
    {
     "name": "stdout",
     "output_type": "stream",
     "text": [
      "['cat', 'dog', 'lion', 'tiger', 'cheetah', 'leopard', 'panther', 'panther']\n"
     ]
    }
   ],
   "source": [
    "print(animals)"
   ]
  },
  {
   "cell_type": "code",
   "execution_count": 13,
   "id": "2a31128c",
   "metadata": {},
   "outputs": [
    {
     "name": "stdout",
     "output_type": "stream",
     "text": [
      "['cat', 'dog', 'lion', 'tiger', 'cheetah', 'leopard', 'panther', 'panther']\n"
     ]
    }
   ],
   "source": [
    "print(animals)"
   ]
  },
  {
   "cell_type": "code",
   "execution_count": 19,
   "id": "60ed88b7",
   "metadata": {},
   "outputs": [],
   "source": [
    "animals.remove('panther')"
   ]
  },
  {
   "cell_type": "code",
   "execution_count": 20,
   "id": "6bbd9a07",
   "metadata": {},
   "outputs": [
    {
     "name": "stdout",
     "output_type": "stream",
     "text": [
      "['cat', 'dog', 'lion', 'tiger', 'cheetah', 'leopard', 'panther']\n"
     ]
    }
   ],
   "source": [
    "print(animals)"
   ]
  },
  {
   "cell_type": "code",
   "execution_count": null,
   "id": "867a0354",
   "metadata": {},
   "outputs": [],
   "source": [
    "#req: to add element according to the indexing number given by the user"
   ]
  },
  {
   "cell_type": "code",
   "execution_count": 24,
   "id": "ca574750",
   "metadata": {},
   "outputs": [],
   "source": [
    "animals.insert(5,\"bear\")"
   ]
  },
  {
   "cell_type": "code",
   "execution_count": 25,
   "id": "6d57db5b",
   "metadata": {},
   "outputs": [
    {
     "name": "stdout",
     "output_type": "stream",
     "text": [
      "['cat', 'dog', 'lion', 'tiger', 'cheetah', 'bear', 'leopard', 'panther']\n"
     ]
    }
   ],
   "source": [
    "print(animals)"
   ]
  },
  {
   "cell_type": "code",
   "execution_count": 26,
   "id": "6bbd1db4",
   "metadata": {},
   "outputs": [],
   "source": [
    "animals.insert(3,\"hippo\")"
   ]
  },
  {
   "cell_type": "code",
   "execution_count": 27,
   "id": "1ca90cac",
   "metadata": {},
   "outputs": [
    {
     "name": "stdout",
     "output_type": "stream",
     "text": [
      "['cat', 'dog', 'lion', 'hippo', 'tiger', 'cheetah', 'bear', 'leopard', 'panther']\n"
     ]
    }
   ],
   "source": [
    "print(animals)"
   ]
  },
  {
   "cell_type": "code",
   "execution_count": 30,
   "id": "6b0cfff0",
   "metadata": {},
   "outputs": [
    {
     "name": "stdout",
     "output_type": "stream",
     "text": [
      "hippo\n"
     ]
    }
   ],
   "source": [
    "print(animals[3])"
   ]
  },
  {
   "cell_type": "code",
   "execution_count": 31,
   "id": "f583341e",
   "metadata": {},
   "outputs": [
    {
     "name": "stdout",
     "output_type": "stream",
     "text": [
      "cheetah\n"
     ]
    }
   ],
   "source": [
    "print(animals[5])"
   ]
  },
  {
   "cell_type": "code",
   "execution_count": null,
   "id": "e1f7b177",
   "metadata": {},
   "outputs": [],
   "source": [
    "#req : modifying the existing element"
   ]
  },
  {
   "cell_type": "code",
   "execution_count": 32,
   "id": "a35ca8f9",
   "metadata": {},
   "outputs": [],
   "source": [
    "animals[3]='elephant'"
   ]
  },
  {
   "cell_type": "code",
   "execution_count": 33,
   "id": "cbb2f6df",
   "metadata": {},
   "outputs": [
    {
     "name": "stdout",
     "output_type": "stream",
     "text": [
      "['cat', 'dog', 'lion', 'elephant', 'tiger', 'cheetah', 'bear', 'leopard', 'panther']\n"
     ]
    }
   ],
   "source": [
    "print(animals)"
   ]
  },
  {
   "cell_type": "code",
   "execution_count": 38,
   "id": "184e8b05",
   "metadata": {},
   "outputs": [],
   "source": [
    "del animals[5]"
   ]
  },
  {
   "cell_type": "code",
   "execution_count": 39,
   "id": "d27f22fc",
   "metadata": {},
   "outputs": [
    {
     "name": "stdout",
     "output_type": "stream",
     "text": [
      "['cat', 'dog', 'lion', 'tiger', 'cheetah', 'leopard', 'panther']\n"
     ]
    }
   ],
   "source": [
    "print(animals)"
   ]
  },
  {
   "cell_type": "code",
   "execution_count": 41,
   "id": "26ddbcf9",
   "metadata": {},
   "outputs": [],
   "source": [
    "x=animals.pop(5)"
   ]
  },
  {
   "cell_type": "code",
   "execution_count": 42,
   "id": "9c89f2cd",
   "metadata": {},
   "outputs": [
    {
     "name": "stdout",
     "output_type": "stream",
     "text": [
      "['cat', 'dog', 'lion', 'tiger', 'cheetah', 'panther']\n"
     ]
    }
   ],
   "source": [
    "print(animals)"
   ]
  },
  {
   "cell_type": "code",
   "execution_count": 43,
   "id": "ead2a329",
   "metadata": {},
   "outputs": [
    {
     "name": "stdout",
     "output_type": "stream",
     "text": [
      "leopard\n"
     ]
    }
   ],
   "source": [
    "print(x)"
   ]
  },
  {
   "cell_type": "code",
   "execution_count": null,
   "id": "2f24a4d0",
   "metadata": {},
   "outputs": [],
   "source": []
  },
  {
   "cell_type": "code",
   "execution_count": null,
   "id": "ad7ae646",
   "metadata": {},
   "outputs": [],
   "source": []
  },
  {
   "cell_type": "code",
   "execution_count": null,
   "id": "bad96cc1",
   "metadata": {},
   "outputs": [],
   "source": []
  },
  {
   "cell_type": "code",
   "execution_count": null,
   "id": "8a8e9531",
   "metadata": {},
   "outputs": [],
   "source": []
  },
  {
   "cell_type": "code",
   "execution_count": null,
   "id": "a7a4d031",
   "metadata": {},
   "outputs": [],
   "source": []
  },
  {
   "cell_type": "code",
   "execution_count": null,
   "id": "c1936af9",
   "metadata": {},
   "outputs": [],
   "source": []
  },
  {
   "cell_type": "code",
   "execution_count": 63,
   "id": "e455cf02",
   "metadata": {},
   "outputs": [],
   "source": []
  },
  {
   "cell_type": "code",
   "execution_count": null,
   "id": "0bd6f037",
   "metadata": {},
   "outputs": [],
   "source": []
  },
  {
   "cell_type": "code",
   "execution_count": null,
   "id": "aff090c6",
   "metadata": {},
   "outputs": [],
   "source": []
  },
  {
   "cell_type": "code",
   "execution_count": null,
   "id": "abf921d6",
   "metadata": {},
   "outputs": [],
   "source": []
  },
  {
   "cell_type": "code",
   "execution_count": null,
   "id": "4cbbb8c1",
   "metadata": {},
   "outputs": [],
   "source": []
  }
 ],
 "metadata": {
  "kernelspec": {
   "display_name": "Python 3",
   "language": "python",
   "name": "python3"
  },
  "language_info": {
   "codemirror_mode": {
    "name": "ipython",
    "version": 3
   },
   "file_extension": ".py",
   "mimetype": "text/x-python",
   "name": "python",
   "nbconvert_exporter": "python",
   "pygments_lexer": "ipython3",
   "version": "3.8.8"
  }
 },
 "nbformat": 4,
 "nbformat_minor": 5
}
